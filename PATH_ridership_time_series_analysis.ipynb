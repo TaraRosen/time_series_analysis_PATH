{
 "cells": [
  {
   "cell_type": "markdown",
   "metadata": {},
   "source": [
    "### Import Packages"
   ]
  },
  {
   "cell_type": "code",
   "execution_count": 1,
   "metadata": {},
   "outputs": [],
   "source": [
    "import pandas as pd\n",
    "import numpy as np\n",
    "import matplotlib.pyplot as plt\n",
    "import seaborn as sns\n",
    "import warnings\n",
    "warnings.filterwarnings('ignore')\n",
    "%matplotlib inline\n",
    "import statsmodels.tsa.api as smt\n",
    "import statsmodels.api as sm\n",
    "from itertools import product                    \n",
    "from tqdm import tqdm_notebook"
   ]
  },
  {
   "cell_type": "markdown",
   "metadata": {},
   "source": [
    "### Import Data"
   ]
  },
  {
   "cell_type": "code",
   "execution_count": 2,
   "metadata": {},
   "outputs": [],
   "source": [
    "riders = pd.read_csv('Port_Authority_Trans-Hudson__PATH__Monthly_Ridership__Beginning_1996.csv')"
   ]
  },
  {
   "cell_type": "markdown",
   "metadata": {},
   "source": [
    "### Preview and Convert to Usable Data"
   ]
  },
  {
   "cell_type": "code",
   "execution_count": 3,
   "metadata": {
    "scrolled": true
   },
   "outputs": [
    {
     "data": {
      "text/html": [
       "<div>\n",
       "<style scoped>\n",
       "    .dataframe tbody tr th:only-of-type {\n",
       "        vertical-align: middle;\n",
       "    }\n",
       "\n",
       "    .dataframe tbody tr th {\n",
       "        vertical-align: top;\n",
       "    }\n",
       "\n",
       "    .dataframe thead th {\n",
       "        text-align: right;\n",
       "    }\n",
       "</style>\n",
       "<table border=\"1\" class=\"dataframe\">\n",
       "  <thead>\n",
       "    <tr style=\"text-align: right;\">\n",
       "      <th></th>\n",
       "      <th>Year</th>\n",
       "      <th>Month</th>\n",
       "      <th>Total Trips</th>\n",
       "    </tr>\n",
       "  </thead>\n",
       "  <tbody>\n",
       "    <tr>\n",
       "      <th>0</th>\n",
       "      <td>01/01/1996</td>\n",
       "      <td>1</td>\n",
       "      <td>4812000</td>\n",
       "    </tr>\n",
       "    <tr>\n",
       "      <th>1</th>\n",
       "      <td>02/01/1996</td>\n",
       "      <td>2</td>\n",
       "      <td>4789000</td>\n",
       "    </tr>\n",
       "    <tr>\n",
       "      <th>2</th>\n",
       "      <td>03/01/1996</td>\n",
       "      <td>3</td>\n",
       "      <td>5119000</td>\n",
       "    </tr>\n",
       "    <tr>\n",
       "      <th>3</th>\n",
       "      <td>04/01/1996</td>\n",
       "      <td>4</td>\n",
       "      <td>5212000</td>\n",
       "    </tr>\n",
       "    <tr>\n",
       "      <th>4</th>\n",
       "      <td>05/01/1996</td>\n",
       "      <td>5</td>\n",
       "      <td>5303000</td>\n",
       "    </tr>\n",
       "  </tbody>\n",
       "</table>\n",
       "</div>"
      ],
      "text/plain": [
       "         Year  Month  Total Trips\n",
       "0  01/01/1996      1      4812000\n",
       "1  02/01/1996      2      4789000\n",
       "2  03/01/1996      3      5119000\n",
       "3  04/01/1996      4      5212000\n",
       "4  05/01/1996      5      5303000"
      ]
     },
     "execution_count": 3,
     "metadata": {},
     "output_type": "execute_result"
    }
   ],
   "source": [
    "riders.head()"
   ]
  },
  {
   "cell_type": "code",
   "execution_count": 4,
   "metadata": {},
   "outputs": [],
   "source": [
    "#rename the year column to month_year column\n",
    "riders.rename(columns={'Year': 'Month_year'}, inplace=True)"
   ]
  },
  {
   "cell_type": "code",
   "execution_count": null,
   "metadata": {},
   "outputs": [],
   "source": [
    "#convert to datetime and set index to month_year column\n",
    "riders.index = pd.to_datetime(riders['Month_year'])"
   ]
  },
  {
   "cell_type": "code",
   "execution_count": null,
   "metadata": {},
   "outputs": [],
   "source": [
    "#drop non-index month_year column and month columns\n",
    "riders.drop(['Month_year', 'Month'], axis=1, inplace=True)"
   ]
  },
  {
   "cell_type": "markdown",
   "metadata": {},
   "source": [
    "### Initial Visualization"
   ]
  },
  {
   "cell_type": "code",
   "execution_count": null,
   "metadata": {
    "scrolled": true
   },
   "outputs": [],
   "source": [
    "#plotting entire dataset\n",
    "plt.figure(figsize=(12, 6))\n",
    "plt.plot(riders['Total Trips'])\n",
    "plt.title('Total Trips per Month')\n",
    "plt.xlabel('Year')\n",
    "plt.ylabel('Total Trips')\n",
    "plt.grid(True)\n",
    "plt.show()"
   ]
  },
  {
   "cell_type": "markdown",
   "metadata": {},
   "source": [
    "Initial interpretation of the plot shows trend and annual seasonality. This series is non-stationary. You can\n",
    "also see two anomalies in the data - a dip in ridership after 9/11 and a dip \n",
    "after Superstorm Sandy. To take a closer look at seasonality, I am going to just \n",
    "plot the first 10 years of data."
   ]
  },
  {
   "cell_type": "code",
   "execution_count": null,
   "metadata": {
    "scrolled": true
   },
   "outputs": [],
   "source": [
    "#plotting 10 years to get a closer look at seasonality\n",
    "plt.figure(figsize=(12, 6))\n",
    "plt.plot(riders['Total Trips'][:120])\n",
    "plt.title('Total Trips per Month')\n",
    "plt.xlabel('Year')\n",
    "plt.ylabel('Total Trips')\n",
    "plt.grid(True)\n",
    "plt.show()"
   ]
  },
  {
   "cell_type": "markdown",
   "metadata": {},
   "source": [
    "### Making Series Stationary - Removing Trend, Seasonality, Autocorrelation "
   ]
  },
  {
   "cell_type": "code",
   "execution_count": null,
   "metadata": {},
   "outputs": [],
   "source": [
    "#function to view series, autocorrelation (ACF) and partial autocorrelation (PACF)\n",
    "\n",
    "def tsplot(y, lags=None, figsize=(12, 7), style='bmh'):\n",
    "    \"\"\" \n",
    "    Plot time series, its ACF and PACF\n",
    "    Calculate Dickey-Fuller Test\n",
    "    \n",
    "    y = time series\n",
    "    lags = how many lags to include in ACF, PACF calculation\n",
    "    \"\"\"\n",
    "    \n",
    "    \n",
    "    if not isinstance(y, pd.Series):\n",
    "        y = pd.Series(y)\n",
    "        \n",
    "    with plt.style.context(style):    \n",
    "        fig = plt.figure(figsize=figsize)\n",
    "        layout = (2, 2)\n",
    "        ts_ax = plt.subplot2grid(layout, (0, 0), colspan=2)\n",
    "        acf_ax = plt.subplot2grid(layout, (1, 0))\n",
    "        pacf_ax = plt.subplot2grid(layout, (1, 1))\n",
    "        \n",
    "        y.plot(ax=ts_ax)\n",
    "        p_value = sm.tsa.stattools.adfuller(y)[1]\n",
    "        ts_ax.set_title('Time Series Analysis Plots\\n Dickey-Fuller: p={0:.5f}'.format(p_value))\n",
    "        smt.graphics.plot_acf(y, lags=lags, ax=acf_ax)\n",
    "        smt.graphics.plot_pacf(y, lags=lags, ax=pacf_ax)\n",
    "        plt.tight_layout()"
   ]
  },
  {
   "cell_type": "code",
   "execution_count": null,
   "metadata": {},
   "outputs": [],
   "source": [
    "tsplot(riders['Total Trips'], lags=60)"
   ]
  },
  {
   "cell_type": "markdown",
   "metadata": {},
   "source": [
    "Removing seasonality - \n",
    "\n",
    "to remove seasonality, we are going to take the 'seasonal difference', which \n",
    "is a simple subtraction of the series from itself with a lag that equals the \n",
    "seasonal period."
   ]
  },
  {
   "cell_type": "code",
   "execution_count": null,
   "metadata": {},
   "outputs": [],
   "source": [
    "riders_diff = riders['Total Trips'] - riders['Total Trips'].shift(12)\n",
    "tsplot(riders_diff[12:], lags=60)"
   ]
  },
  {
   "cell_type": "markdown",
   "metadata": {},
   "source": [
    "Removing Autocorrelation -\n",
    "\n",
    "the autocorrelation function still has too many lags - to remove \n",
    "autocorrelation, I will take a first difference - subtracting the \n",
    "series from itself with lag 1."
   ]
  },
  {
   "cell_type": "code",
   "execution_count": null,
   "metadata": {
    "scrolled": false
   },
   "outputs": [],
   "source": [
    "riders_diff = riders_diff - riders_diff.shift(1)\n",
    "tsplot(riders_diff[12+1:], lags=60)"
   ]
  },
  {
   "cell_type": "markdown",
   "metadata": {},
   "source": [
    "Our data now looks like it is ready to be modeled - the Dickey-Fuller test shows no trends,\n",
    "the mean and standard deviation appear constant and there doesn't appear to be any\n",
    "autocorrelation."
   ]
  },
  {
   "cell_type": "markdown",
   "metadata": {},
   "source": [
    "### Optimizing The Parameters (p, d, q, P, D, Q, and s)"
   ]
  },
  {
   "cell_type": "code",
   "execution_count": null,
   "metadata": {},
   "outputs": [],
   "source": [
    "\"\"\" creating a parameters list with different p, d, q, P, D, Q \n",
    "values \"\"\"\n",
    "\n",
    "ps = range(1, 3)\n",
    "d = range(1, 2)\n",
    "qs = range(1, 4)\n",
    "Ps = range(1, 3)\n",
    "D = range(1, 2)\n",
    "Qs = range(1, 2)\n",
    "s = 12 # season length is still 12\n",
    "\n",
    "# creating list with all the possible combinations of parameters\n",
    "parameters = product(ps, d, qs, Ps, D, Qs)\n",
    "parameters_list = list(parameters)\n",
    "len(parameters_list)"
   ]
  },
  {
   "cell_type": "code",
   "execution_count": null,
   "metadata": {},
   "outputs": [],
   "source": [
    "\"\"\"splitting the data into train/test: train is the first 80%\n",
    "of the series and the test is the last 20%\"\"\"\n",
    "\n",
    "riders_train = riders[:(int(len(riders)*0.8))]\n",
    "riders_test = riders[(int(len(riders)*0.8)):]"
   ]
  },
  {
   "cell_type": "code",
   "execution_count": null,
   "metadata": {},
   "outputs": [],
   "source": [
    "\"\"\" function to calculate and find the lowest AIC using the \n",
    "# different p, d, q, P, D, Q parameter values \"\"\" \n",
    "\n",
    "def optimizeSARIMA(param_list, s):\n",
    "    \n",
    "    results = []\n",
    "    best_aic = float(\"inf\")\n",
    "\n",
    "    for param in tqdm_notebook(param_list):\n",
    "        # we need try-except because on some combinations model fails to converge\n",
    "        try:\n",
    "            model=sm.tsa.statespace.SARIMAX(riders_train, order=(param[0], param[1], param[2]), \n",
    "                                            seasonal_order=(param[3], param[4], param[5], s)).fit(disp=-1)\n",
    "        except:\n",
    "            continue\n",
    "        aic = model.aic\n",
    "        # saving best model, AIC and parameters\n",
    "        if aic < best_aic:\n",
    "            best_model = model\n",
    "            best_aic = aic\n",
    "            best_param = param\n",
    "        results.append([param, model.aic])\n",
    "\n",
    "    result_table = pd.DataFrame(results)\n",
    "    result_table.columns = ['parameters', 'aic']\n",
    "    # sorting in ascending order, the lower AIC is - the better\n",
    "    result_table = result_table.sort_values(by='aic', ascending=True).reset_index(drop=True)\n",
    "    \n",
    "    return result_table"
   ]
  },
  {
   "cell_type": "code",
   "execution_count": null,
   "metadata": {
    "scrolled": false
   },
   "outputs": [],
   "source": [
    "#create parameters/AIC table\n",
    "\n",
    "result_table = optimizeSARIMA(parameters_list, s)\n",
    "result_table.head()"
   ]
  },
  {
   "cell_type": "code",
   "execution_count": null,
   "metadata": {
    "scrolled": true
   },
   "outputs": [],
   "source": [
    "# set the parameters that give the lowest AIC\n",
    "\n",
    "p, d, q, P, D, Q = result_table.parameters[0]\n",
    "\n",
    "best_model=sm.tsa.statespace.SARIMAX(riders_train, order=(p, d, q), \n",
    "                                        seasonal_order=(P, D, Q, s)).fit(disp=-1)\n",
    "print(best_model.summary())"
   ]
  },
  {
   "cell_type": "markdown",
   "metadata": {},
   "source": [
    "Inspecting the residuals of the model with:\n",
    "p = 2,\n",
    "d = 1,\n",
    "q = 3,\n",
    "P = 2,\n",
    "D = 1,\n",
    "Q = 1,\n",
    "s = 12:"
   ]
  },
  {
   "cell_type": "code",
   "execution_count": null,
   "metadata": {
    "scrolled": true
   },
   "outputs": [],
   "source": [
    "tsplot(best_model.resid[12+1:], lags=60)"
   ]
  },
  {
   "cell_type": "markdown",
   "metadata": {},
   "source": [
    "The residuals are stationary and there doesn't appear to be any autocorrelation.\n",
    "I can move on to forecasting."
   ]
  },
  {
   "cell_type": "markdown",
   "metadata": {},
   "source": [
    "### Forecasting Using SARIMA"
   ]
  },
  {
   "cell_type": "code",
   "execution_count": null,
   "metadata": {},
   "outputs": [],
   "source": [
    "# going to use the mean absolute error (MAE)\n",
    "# to measure the quality of our predictions\n",
    "\n",
    "def mean_absolute_percentage_error(y_true, y_pred): \n",
    "    return np.mean(np.abs((y_true - y_pred) / y_true)) * 100"
   ]
  },
  {
   "cell_type": "code",
   "execution_count": null,
   "metadata": {},
   "outputs": [],
   "source": [
    "# training set forecasting function\n",
    "\n",
    "def plotSARIMAtraining(series, model, n_steps):\n",
    "    \n",
    "    #train/test split\n",
    "    data = series.copy()\n",
    "    data_train = data[:(int(len(data)*0.8))]\n",
    "    data_test = data[(int(len(data)*0.8)):]\n",
    "    data_test.columns = ['actual']\n",
    "    \n",
    "    # forecasting on n_steps forward \n",
    "    forecast = model.predict(start = data_train.shape[0], end = data_train.shape[0]+n_steps-1)\n",
    "    forecast = pd.DataFrame(forecast, columns=['arima_model'])\n",
    "    forecast.dropna(inplace=True)\n",
    "    arima_forecast = pd.concat([forecast, data_test], axis=1)\n",
    "    \n",
    "    # calculate error, again having shifted on s+d steps from the beginning\n",
    "    error = mean_absolute_percentage_error(arima_forecast['actual'], arima_forecast['arima_model'])\n",
    "    \n",
    "    \n",
    "    plt.figure(figsize=(15, 7))\n",
    "    plt.title(\"Mean Absolute Percentage Error: {0:.2f}%\".format(error))\n",
    "    #plt.plot(series, color='b', label='actual')\n",
    "    plt.plot(forecast, color='r', label=\"model\")\n",
    "    plt.axvspan(data_test.index[-1], forecast.index[-1], alpha=0.5, color='lightgrey')\n",
    "    plt.plot(data, label=\"actual\")\n",
    "    plt.legend()\n",
    "    plt.grid(True);"
   ]
  },
  {
   "cell_type": "code",
   "execution_count": null,
   "metadata": {},
   "outputs": [],
   "source": [
    "plotSARIMAtraining(riders, best_model, 56)"
   ]
  },
  {
   "cell_type": "code",
   "execution_count": null,
   "metadata": {},
   "outputs": [],
   "source": [
    "# forecasting function\n",
    "\n",
    "def plotSARIMA(series, model, n_steps):\n",
    "    \"\"\" \n",
    "    series = dataset with timeseries\n",
    "    model = fitted SARIMA model\n",
    "    n_steps = number of steps to predict into the future\n",
    "    \"\"\"\n",
    "    \n",
    "    # adding model values\n",
    "    data = series.copy()\n",
    "    data.columns = ['actual']\n",
    "    data['arima_model'] = model.fittedvalues\n",
    "    # making a shift on s+d steps, because these values were unobserved by the model\n",
    "    # due to the differentiating\n",
    "    data['arima_model'][:s+d] = np.NaN\n",
    "    \n",
    "    # forecasting on n_steps forward \n",
    "    forecast = model.predict(start = data.shape[0], end = data.shape[0]+n_steps, dynamic=True)\n",
    "    forecast = data.arima_model.append(forecast)\n",
    "    # calculate error, again having shifted on s+d steps from the beginning\n",
    "    error = mean_absolute_percentage_error(data['actual'][s+d:], data['arima_model'][s+d:])\n",
    "    \n",
    "    plt.figure(figsize=(15, 7))\n",
    "    plt.title(\"Mean Absolute Percentage Error: {0:.2f}%\".format(error))\n",
    "    plt.plot(forecast[data.shape[0]:], color='r', label=\"model\")\n",
    "    plt.axvspan(data.index[-1], forecast.index[-1], alpha=0.5, color='lightgrey')\n",
    "    plt.plot(data.actual, label=\"actual\")\n",
    "    plt.legend()\n",
    "    plt.grid(True);"
   ]
  },
  {
   "cell_type": "code",
   "execution_count": null,
   "metadata": {
    "scrolled": true
   },
   "outputs": [],
   "source": [
    "# set the parameters that give the lowest AIC\n",
    "p, d, q, P, D, Q = result_table.parameters[0]\n",
    "\n",
    "final_model=sm.tsa.statespace.SARIMAX(riders, order=(p, d, q), seasonal_order=(P, D, Q, s)).fit(disp=-1)\n",
    "print(final_model.summary())"
   ]
  },
  {
   "cell_type": "markdown",
   "metadata": {},
   "source": [
    "### Forecasting PATH Ridership Into 2024"
   ]
  },
  {
   "cell_type": "code",
   "execution_count": null,
   "metadata": {},
   "outputs": [],
   "source": [
    "plotSARIMA(riders, final_model, 60)"
   ]
  },
  {
   "cell_type": "code",
   "execution_count": null,
   "metadata": {},
   "outputs": [],
   "source": []
  }
 ],
 "metadata": {
  "kernelspec": {
   "display_name": "Python 3",
   "language": "python",
   "name": "python3"
  },
  "language_info": {
   "codemirror_mode": {
    "name": "ipython",
    "version": 3
   },
   "file_extension": ".py",
   "mimetype": "text/x-python",
   "name": "python",
   "nbconvert_exporter": "python",
   "pygments_lexer": "ipython3",
   "version": "3.7.3"
  }
 },
 "nbformat": 4,
 "nbformat_minor": 2
}
